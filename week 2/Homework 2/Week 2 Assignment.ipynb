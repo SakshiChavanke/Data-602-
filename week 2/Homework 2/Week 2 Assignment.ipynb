{
 "cells": [
  {
   "cell_type": "markdown",
   "id": "4d19b9c5",
   "metadata": {},
   "source": [
    "# Assignment Week 2 \n",
    "\n",
    "* Answer each question completely. \n",
    "* Include your code and summarize what you see in a brief narrative.\n",
    "\n",
    "__Charting:__\n",
    "Remember to make your charts as self-sufficient as possible (i.e., labels, titles, lack of clutter)  "
   ]
  },
  {
   "cell_type": "code",
   "execution_count": 64,
   "id": "964ee1f3",
   "metadata": {},
   "outputs": [
    {
     "name": "stdout",
     "output_type": "stream",
     "text": [
      "<class 'pandas.core.frame.DataFrame'>\n",
      "RangeIndex: 558837 entries, 0 to 558836\n",
      "Data columns (total 16 columns):\n",
      " #   Column        Non-Null Count   Dtype  \n",
      "---  ------        --------------   -----  \n",
      " 0   year          558837 non-null  int64  \n",
      " 1   make          548536 non-null  object \n",
      " 2   model         548438 non-null  object \n",
      " 3   trim          548186 non-null  object \n",
      " 4   body          545642 non-null  object \n",
      " 5   transmission  493484 non-null  object \n",
      " 6   vin           558833 non-null  object \n",
      " 7   state         558837 non-null  object \n",
      " 8   condition     547043 non-null  object \n",
      " 9   odometer      558743 non-null  float64\n",
      " 10  color         558088 non-null  object \n",
      " 11  interior      558088 non-null  object \n",
      " 12  seller        558837 non-null  object \n",
      " 13  mmr           558837 non-null  object \n",
      " 14  sellingprice  558837 non-null  int64  \n",
      " 15  saledate      558837 non-null  object \n",
      "dtypes: float64(1), int64(2), object(13)\n",
      "memory usage: 68.2+ MB\n"
     ]
    }
   ],
   "source": [
    "import pandas as pd\n",
    "import numpy as np\n",
    "import seaborn as sns\n",
    "import matplotlib.pyplot as plt\n",
    "\n",
    "\n",
    "df = pd.read_csv('https://raw.githubusercontent.com/msaricaumbc/DS_data/master/ds602/car_prices/car_prices.csv', low_memory=False)\n",
    "\n",
    "df.info()"
   ]
  },
  {
   "cell_type": "markdown",
   "id": "cd94b385",
   "metadata": {},
   "source": [
    "# Data Description:\n",
    "- year: year the car was built (e.g., the model year)  \n",
    "- make: the manufacturer. \n",
    "- model: specific model of the car  \n",
    "- trim: subtype of the car model. \n",
    "- body: body style of the car. \n",
    "- transmission: type of transmission  \n",
    "- state: state car is registered. \n",
    "- condition: numerical rating of the condition, higher is better.  \n",
    "- odometer: number of miles the car has been driven.   \n",
    "- color: color of the car.  \n",
    "- interior: type of interior (e.g., seats). \n",
    "- mmr: estimated wholesale price of the car if auctioned.  \n",
    "- sellingprice: actual sales price of the car."
   ]
  },
  {
   "cell_type": "markdown",
   "id": "098b7222",
   "metadata": {},
   "source": [
    "## Question 1. Determine the number of missing values in each column."
   ]
  },
  {
   "cell_type": "code",
   "execution_count": 65,
   "id": "57502945",
   "metadata": {},
   "outputs": [
    {
     "data": {
      "text/plain": [
       "year                0\n",
       "make            10301\n",
       "model           10399\n",
       "trim            10651\n",
       "body            13195\n",
       "transmission    65353\n",
       "vin                 4\n",
       "state               0\n",
       "condition       11794\n",
       "odometer           94\n",
       "color             749\n",
       "interior          749\n",
       "seller              0\n",
       "mmr                 0\n",
       "sellingprice        0\n",
       "saledate            0\n",
       "dtype: int64"
      ]
     },
     "execution_count": 65,
     "metadata": {},
     "output_type": "execute_result"
    }
   ],
   "source": [
    "df.isna().sum()"
   ]
  },
  {
   "cell_type": "markdown",
   "id": "f30f7db1",
   "metadata": {},
   "source": [
    "## Question 2. Check the data types.\n",
    "- Which columns are coded to the incorrect type? If any, correct them."
   ]
  },
  {
   "cell_type": "code",
   "execution_count": 66,
   "id": "722f8fce",
   "metadata": {},
   "outputs": [
    {
     "name": "stdout",
     "output_type": "stream",
     "text": [
      "<class 'pandas.core.frame.DataFrame'>\n",
      "RangeIndex: 558837 entries, 0 to 558836\n",
      "Data columns (total 16 columns):\n",
      " #   Column        Non-Null Count   Dtype  \n",
      "---  ------        --------------   -----  \n",
      " 0   year          558837 non-null  int64  \n",
      " 1   make          548536 non-null  object \n",
      " 2   model         548438 non-null  object \n",
      " 3   trim          548186 non-null  object \n",
      " 4   body          545642 non-null  object \n",
      " 5   transmission  493484 non-null  object \n",
      " 6   vin           558833 non-null  object \n",
      " 7   state         558837 non-null  object \n",
      " 8   condition     547043 non-null  object \n",
      " 9   odometer      558743 non-null  float64\n",
      " 10  color         558088 non-null  object \n",
      " 11  interior      558088 non-null  object \n",
      " 12  seller        558837 non-null  object \n",
      " 13  mmr           558837 non-null  object \n",
      " 14  sellingprice  558837 non-null  int64  \n",
      " 15  saledate      558837 non-null  object \n",
      "dtypes: float64(1), int64(2), object(13)\n",
      "memory usage: 68.2+ MB\n"
     ]
    }
   ],
   "source": [
    "df.info()"
   ]
  },
  {
   "cell_type": "code",
   "execution_count": 67,
   "id": "3fdfe21e",
   "metadata": {},
   "outputs": [],
   "source": [
    "# Dropping the rows with string values in sellingprice and mmr\n",
    "df.drop( df[df['trim'] == 'SE PZEV w/Connectivity'].index, axis = 0, inplace = True)"
   ]
  },
  {
   "cell_type": "code",
   "execution_count": 68,
   "id": "68626bb3",
   "metadata": {},
   "outputs": [],
   "source": [
    "df['sellingprice'] = df['sellingprice'].astype('int')\n",
    "df['mmr'] = df['mmr'].astype('int')"
   ]
  },
  {
   "cell_type": "markdown",
   "id": "f1543f3d",
   "metadata": {},
   "source": [
    "**Converting sellingpricec and mmr to integer**"
   ]
  },
  {
   "cell_type": "markdown",
   "id": "f87f31b7",
   "metadata": {},
   "source": [
    "## Question 3. Analyze the `make` column.\n",
    "- Comment on what you observe.  \n",
    "- Clean the column to reduce the number of unique values to as few as reasonably possible (no hard coding). \n",
    "\n",
    "Hint: What do you notice if you run this:\n",
    "```python\n",
    "makes = df.make.unique().tolist()\n",
    "makes = [str(x).lower() for x in makes]\n",
    "sorted(makes)\n",
    "```"
   ]
  },
  {
   "cell_type": "code",
   "execution_count": 70,
   "id": "d8d83ecc",
   "metadata": {
    "scrolled": true
   },
   "outputs": [
    {
     "data": {
      "text/plain": [
       "['acura',\n",
       " 'acura',\n",
       " 'airstream',\n",
       " 'aston martin',\n",
       " 'audi',\n",
       " 'audi',\n",
       " 'bentley',\n",
       " 'bmw',\n",
       " 'bmw',\n",
       " 'buick',\n",
       " 'buick',\n",
       " 'cadillac',\n",
       " 'cadillac',\n",
       " 'chev truck',\n",
       " 'chevrolet',\n",
       " 'chevrolet',\n",
       " 'chrysler',\n",
       " 'chrysler',\n",
       " 'daewoo',\n",
       " 'dodge',\n",
       " 'dodge',\n",
       " 'dodge tk',\n",
       " 'dot',\n",
       " 'ferrari',\n",
       " 'fiat',\n",
       " 'fisker',\n",
       " 'ford',\n",
       " 'ford',\n",
       " 'ford tk',\n",
       " 'ford truck',\n",
       " 'geo',\n",
       " 'gmc',\n",
       " 'gmc',\n",
       " 'gmc truck',\n",
       " 'honda',\n",
       " 'honda',\n",
       " 'hummer',\n",
       " 'hyundai',\n",
       " 'hyundai',\n",
       " 'hyundai tk',\n",
       " 'infiniti',\n",
       " 'isuzu',\n",
       " 'jaguar',\n",
       " 'jeep',\n",
       " 'jeep',\n",
       " 'kia',\n",
       " 'kia',\n",
       " 'lamborghini',\n",
       " 'land rover',\n",
       " 'land rover',\n",
       " 'landrover',\n",
       " 'lexus',\n",
       " 'lexus',\n",
       " 'lincoln',\n",
       " 'lincoln',\n",
       " 'lotus',\n",
       " 'maserati',\n",
       " 'maserati',\n",
       " 'mazda',\n",
       " 'mazda',\n",
       " 'mazda tk',\n",
       " 'mercedes',\n",
       " 'mercedes-b',\n",
       " 'mercedes-benz',\n",
       " 'mercury',\n",
       " 'mercury',\n",
       " 'mini',\n",
       " 'mitsubishi',\n",
       " 'mitsubishi',\n",
       " 'nan',\n",
       " 'nissan',\n",
       " 'nissan',\n",
       " 'oldsmobile',\n",
       " 'oldsmobile',\n",
       " 'plymouth',\n",
       " 'plymouth',\n",
       " 'pontiac',\n",
       " 'pontiac',\n",
       " 'porsche',\n",
       " 'porsche',\n",
       " 'ram',\n",
       " 'rolls-royce',\n",
       " 'saab',\n",
       " 'saturn',\n",
       " 'scion',\n",
       " 'smart',\n",
       " 'subaru',\n",
       " 'subaru',\n",
       " 'suzuki',\n",
       " 'suzuki',\n",
       " 'tesla',\n",
       " 'toyota',\n",
       " 'toyota',\n",
       " 'volkswagen',\n",
       " 'volkswagen',\n",
       " 'volvo',\n",
       " 'vw']"
      ]
     },
     "execution_count": 70,
     "metadata": {},
     "output_type": "execute_result"
    }
   ],
   "source": [
    "makes = df['make'].unique().tolist()\n",
    "makes = [str(s).lower() for s in makes]\n",
    "sorted(makes)"
   ]
  },
  {
   "cell_type": "code",
   "execution_count": 71,
   "id": "f3771c09",
   "metadata": {},
   "outputs": [],
   "source": [
    "df['make'] = df['make'].apply(lambda x: x.lower() if type(x) == str else x)"
   ]
  },
  {
   "cell_type": "code",
   "execution_count": 72,
   "id": "fe62f237",
   "metadata": {},
   "outputs": [
    {
     "data": {
      "text/plain": [
       "66"
      ]
     },
     "execution_count": 72,
     "metadata": {},
     "output_type": "execute_result"
    }
   ],
   "source": [
    "df['make'].nunique()"
   ]
  },
  {
   "cell_type": "markdown",
   "id": "dbc187b2",
   "metadata": {},
   "source": [
    "**After conversion there are only66 unique makes**"
   ]
  },
  {
   "cell_type": "markdown",
   "id": "1398d1bf",
   "metadata": {},
   "source": [
    "## Question 4. Analyze the relationship between the wholeprice `mmr` and the `salesprice`.\n",
    "- What is the overall correlation?  \n",
    "- What happens to the correlation as you increase the maximum selling price window (e.g., 0-10000, 0-20000,...)?\n",
    "- Create a scatter plot with the relationship.  \n",
    "- Create a graph that shows how the correlation changes."
   ]
  },
  {
   "cell_type": "code",
   "execution_count": 104,
   "id": "4f589c9f",
   "metadata": {},
   "outputs": [
    {
     "data": {
      "text/html": [
       "<div>\n",
       "<style scoped>\n",
       "    .dataframe tbody tr th:only-of-type {\n",
       "        vertical-align: middle;\n",
       "    }\n",
       "\n",
       "    .dataframe tbody tr th {\n",
       "        vertical-align: top;\n",
       "    }\n",
       "\n",
       "    .dataframe thead th {\n",
       "        text-align: right;\n",
       "    }\n",
       "</style>\n",
       "<table border=\"1\" class=\"dataframe\">\n",
       "  <thead>\n",
       "    <tr style=\"text-align: right;\">\n",
       "      <th></th>\n",
       "      <th>year</th>\n",
       "      <th>odometer</th>\n",
       "      <th>mmr</th>\n",
       "      <th>sellingprice</th>\n",
       "    </tr>\n",
       "  </thead>\n",
       "  <tbody>\n",
       "    <tr>\n",
       "      <th>year</th>\n",
       "      <td>1.000000</td>\n",
       "      <td>-0.772720</td>\n",
       "      <td>0.596623</td>\n",
       "      <td>0.586488</td>\n",
       "    </tr>\n",
       "    <tr>\n",
       "      <th>odometer</th>\n",
       "      <td>-0.772720</td>\n",
       "      <td>1.000000</td>\n",
       "      <td>-0.588107</td>\n",
       "      <td>-0.582405</td>\n",
       "    </tr>\n",
       "    <tr>\n",
       "      <th>mmr</th>\n",
       "      <td>0.596623</td>\n",
       "      <td>-0.588107</td>\n",
       "      <td>1.000000</td>\n",
       "      <td>0.983634</td>\n",
       "    </tr>\n",
       "    <tr>\n",
       "      <th>sellingprice</th>\n",
       "      <td>0.586488</td>\n",
       "      <td>-0.582405</td>\n",
       "      <td>0.983634</td>\n",
       "      <td>1.000000</td>\n",
       "    </tr>\n",
       "  </tbody>\n",
       "</table>\n",
       "</div>"
      ],
      "text/plain": [
       "                  year  odometer       mmr  sellingprice\n",
       "year          1.000000 -0.772720  0.596623      0.586488\n",
       "odometer     -0.772720  1.000000 -0.588107     -0.582405\n",
       "mmr           0.596623 -0.588107  1.000000      0.983634\n",
       "sellingprice  0.586488 -0.582405  0.983634      1.000000"
      ]
     },
     "execution_count": 104,
     "metadata": {},
     "output_type": "execute_result"
    }
   ],
   "source": [
    "df.corr()"
   ]
  },
  {
   "cell_type": "markdown",
   "id": "57d26911",
   "metadata": {},
   "source": [
    "**Overall correlation is 0.983634**"
   ]
  },
  {
   "cell_type": "code",
   "execution_count": 105,
   "id": "6d50332e",
   "metadata": {},
   "outputs": [],
   "source": [
    "# Getting coorelation for each window\n",
    "row = []\n",
    "for i in range(10000, 230000, 10000):\n",
    "    corr = df[ df['sellingprice'] < i+1].corr()['sellingprice']['mmr']\n",
    "    \n",
    "    row.append([i, corr])"
   ]
  },
  {
   "cell_type": "code",
   "execution_count": 106,
   "id": "9cef7113",
   "metadata": {},
   "outputs": [],
   "source": [
    "data = pd.DataFrame(row, columns=['sell price', 'corr'])"
   ]
  },
  {
   "cell_type": "markdown",
   "id": "8470a6eb",
   "metadata": {},
   "source": [
    "**Create a scatter plot with the relationship.**"
   ]
  },
  {
   "cell_type": "code",
   "execution_count": 107,
   "id": "91a408f1",
   "metadata": {},
   "outputs": [
    {
     "data": {
      "text/plain": [
       "<AxesSubplot:xlabel='sellingprice', ylabel='mmr'>"
      ]
     },
     "execution_count": 107,
     "metadata": {},
     "output_type": "execute_result"
    },
    {
     "data": {
      "image/png": "[encoded data removed]",
      "text/plain": [
       "<Figure size 432x288 with 1 Axes>"
      ]
     },
     "metadata": {
      "needs_background": "light"
     },
     "output_type": "display_data"
    }
   ],
   "source": [
    "sns.scatterplot(data = df, x = 'sellingprice', y = 'mmr')"
   ]
  },
  {
   "cell_type": "code",
   "execution_count": 83,
   "id": "fb8feb1e",
   "metadata": {},
   "outputs": [
    {
     "data": {
      "text/plain": [
       "<AxesSubplot:xlabel='corr', ylabel='sell price'>"
      ]
     },
     "execution_count": 83,
     "metadata": {},
     "output_type": "execute_result"
    },
    {
     "data": {
      "image/png": "[encoded data removed]",
      "text/plain": [
       "<Figure size 432x288 with 1 Axes>"
      ]
     },
     "metadata": {
      "needs_background": "light"
     },
     "output_type": "display_data"
    }
   ],
   "source": [
    "sns.scatterplot(data = data, x = 'corr', y = 'sell price')"
   ]
  },
  {
   "cell_type": "markdown",
   "id": "77b04d30",
   "metadata": {},
   "source": [
    "**Correlation is increasing as the window is increasing**"
   ]
  },
  {
   "cell_type": "markdown",
   "id": "dccd49f9",
   "metadata": {},
   "source": [
    "## Question 5. How does the distribution of `salesprice` vary by make for cars made between 2010-2015?\n",
    "- Use the 10 most common makes (your cleaned version of this column).  \n",
    "- Create a graph that answers this question."
   ]
  },
  {
   "cell_type": "code",
   "execution_count": 95,
   "id": "9ee251dd",
   "metadata": {},
   "outputs": [],
   "source": [
    "data = df[ df['year'].between(2010, 2015)]"
   ]
  },
  {
   "cell_type": "code",
   "execution_count": 96,
   "id": "a00841fe",
   "metadata": {
    "scrolled": true
   },
   "outputs": [
    {
     "data": {
      "text/plain": [
       "ford             70565\n",
       "nissan           42374\n",
       "chevrolet        38161\n",
       "toyota           26263\n",
       "dodge            20169\n",
       "hyundai          17899\n",
       "honda            15644\n",
       "kia              15347\n",
       "infiniti         12720\n",
       "bmw              11905\n",
       "chrysler         10912\n",
       "mercedes-benz    10149\n",
       "jeep              9007\n",
       "volkswagen        7974\n",
       "lexus             7178\n",
       "mazda             5967\n",
       "gmc               5586\n",
       "ram               4574\n",
       "lincoln           3793\n",
       "subaru            3702\n",
       "audi              3219\n",
       "cadillac          3029\n",
       "acura             2920\n",
       "buick             2490\n",
       "mitsubishi        2391\n",
       "mini              2204\n",
       "volvo             1690\n",
       "land rover        1204\n",
       "scion             1070\n",
       "fiat               865\n",
       "porsche            807\n",
       "jaguar             624\n",
       "smart              310\n",
       "suzuki             291\n",
       "mercury            193\n",
       "pontiac             72\n",
       "maserati            57\n",
       "bentley             30\n",
       "saab                23\n",
       "tesla               23\n",
       "vw                  19\n",
       "rolls-royce         17\n",
       "ferrari             14\n",
       "fisker               9\n",
       "hummer               3\n",
       "aston martin         2\n",
       "airstream            1\n",
       "mercedes             1\n",
       "Name: make, dtype: int64"
      ]
     },
     "execution_count": 96,
     "metadata": {},
     "output_type": "execute_result"
    }
   ],
   "source": [
    "data['make'].value_counts()"
   ]
  },
  {
   "cell_type": "code",
   "execution_count": 97,
   "id": "a3852568",
   "metadata": {},
   "outputs": [],
   "source": [
    "top_makes = data.groupby(['make']).count()['year'].sort_values(ascending = False)[:10].index.values"
   ]
  },
  {
   "cell_type": "code",
   "execution_count": 98,
   "id": "a1e879c1",
   "metadata": {},
   "outputs": [],
   "source": [
    "data = data[ data['make'].isin(top_makes)]"
   ]
  },
  {
   "cell_type": "code",
   "execution_count": 103,
   "id": "0a6dc792",
   "metadata": {},
   "outputs": [
    {
     "data": {
      "text/plain": [
       "<AxesSubplot:xlabel='make', ylabel='sellingprice'>"
      ]
     },
     "execution_count": 103,
     "metadata": {},
     "output_type": "execute_result"
    },
    {
     "data": {
      "image/png": "[encoded data removed]",
      "text/plain": [
       "<Figure size 720x360 with 1 Axes>"
      ]
     },
     "metadata": {
      "needs_background": "light"
     },
     "output_type": "display_data"
    }
   ],
   "source": [
    "plt.figure(figsize = (10, 5))\n",
    "sns.violinplot(data = data, x = 'make', y = 'sellingprice')"
   ]
  }
 ],
 "metadata": {
  "kernelspec": {
   "display_name": "Python 3 (ipykernel)",
   "language": "python",
   "name": "python3"
  },
  "language_info": {
   "codemirror_mode": {
    "name": "ipython",
    "version": 3
   },
   "file_extension": ".py",
   "mimetype": "text/x-python",
   "name": "python",
   "nbconvert_exporter": "python",
   "pygments_lexer": "ipython3",
   "version": "3.9.7"
  }
 },
 "nbformat": 4,
 "nbformat_minor": 5
}
