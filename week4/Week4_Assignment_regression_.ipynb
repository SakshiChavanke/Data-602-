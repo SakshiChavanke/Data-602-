{
 "cells": [
  {
   "cell_type": "markdown",
   "metadata": {},
   "source": [
    "# Homework 4\n",
    "\n",
    "- Execute the below code, then answer the numbered questions."
   ]
  },
  {
   "cell_type": "code",
   "execution_count": 1,
   "metadata": {},
   "outputs": [
    {
     "name": "stdout",
     "output_type": "stream",
     "text": [
      "<class 'pandas.core.frame.DataFrame'>\n",
      "RangeIndex: 9055 entries, 0 to 9054\n",
      "Data columns (total 7 columns):\n",
      " #   Column         Non-Null Count  Dtype  \n",
      "---  ------         --------------  -----  \n",
      " 0   make           8164 non-null   object \n",
      " 1   transmission   8106 non-null   object \n",
      " 2   state          8152 non-null   object \n",
      " 3   condition      8173 non-null   float64\n",
      " 4   odometer       8178 non-null   float64\n",
      " 5   auction_value  8107 non-null   float64\n",
      " 6   selling_price  9055 non-null   float64\n",
      "dtypes: float64(4), object(3)\n",
      "memory usage: 495.3+ KB\n"
     ]
    }
   ],
   "source": [
    "import pandas as pd\n",
    "\n",
    "df = pd.read_csv('https://raw.githubusercontent.com/msaricaumbc/DS_data/master/ds602/regression/car-reg-data.csv')\n",
    "df.info()"
   ]
  },
  {
   "cell_type": "code",
   "execution_count": 2,
   "metadata": {},
   "outputs": [
    {
     "name": "stdout",
     "output_type": "stream",
     "text": [
      "Records in training data: 7,244\n",
      "Records in test data: 1,811\n",
      "\n",
      "Features:\n",
      "make\n",
      "transmission\n",
      "state\n",
      "condition\n",
      "odometer\n",
      "auction_value\n"
     ]
    }
   ],
   "source": [
    "from sklearn.model_selection import train_test_split\n",
    "features = [x for x in df.columns if x != 'selling_price']\n",
    "\n",
    "X = df[features]\n",
    "y = df['selling_price']\n",
    "\n",
    "X_train, X_test, y_train, y_test = train_test_split(X, y, test_size=0.2, random_state=100)\n",
    "\n",
    "print(f'Records in training data: {X_train.shape[0]:,}')\n",
    "print(f'Records in test data: {X_test.shape[0]:,}')\n",
    "print('\\nFeatures:')\n",
    "print(*X_train.columns, sep='\\n')"
   ]
  },
  {
   "cell_type": "markdown",
   "metadata": {},
   "source": [
    "## Question 1: Split the features into two lists, one for the numerical features and another for the categorical features."
   ]
  },
  {
   "cell_type": "code",
   "execution_count": 3,
   "metadata": {},
   "outputs": [],
   "source": [
    "# Splitting num feature and Cat feature.\n",
    "\n",
    "num_features = [col for col in features if df[col].dtype == float]\n",
    "cat_features = [col for col in features if col not in num_features]"
   ]
  },
  {
   "cell_type": "markdown",
   "metadata": {},
   "source": [
    "## Question 2: Using the numerical variables, create a pipeline that replaces the missing values with the median and then standardizes the values using a standard scaler."
   ]
  },
  {
   "cell_type": "code",
   "execution_count": 4,
   "metadata": {},
   "outputs": [],
   "source": [
    "# Importing all the important libraries\n",
    "\n",
    "from sklearn.pipeline import Pipeline\n",
    "from sklearn.compose import ColumnTransformer\n",
    "from sklearn.impute import SimpleImputer\n",
    "from sklearn.preprocessing import OneHotEncoder, StandardScaler"
   ]
  },
  {
   "cell_type": "code",
   "execution_count": 5,
   "metadata": {},
   "outputs": [],
   "source": [
    "# Creating pipeline\n",
    "\n",
    "num_pipeline = Pipeline( [('imputer missing', SimpleImputer(strategy='median')),\n",
    "                         ('standardize', StandardScaler())])"
   ]
  },
  {
   "cell_type": "markdown",
   "metadata": {},
   "source": [
    "## Question 3: Using the categorical variables, create a pipeline that replaces the missing values with the most frequent and then use one-hot encoding to convert the data to numerical arrays.\n",
    "- You should be dropping one category from each variable when using the one-hot encoder.  \n",
    "- To ensure the pipeline doesn't break when it receives new/unexpected categories, you should ignore new categories.\n",
    "- Use a fit transformer on the training dataset to validate all the columns are now numeric and to determine how many columns the transformed data contains."
   ]
  },
  {
   "cell_type": "code",
   "execution_count": 6,
   "metadata": {},
   "outputs": [],
   "source": [
    "# Formation of pipeline using the categorical variables with the most frequent \n",
    "\n",
    "\n",
    "cat_pipeline = Pipeline([('imputer missing', SimpleImputer(strategy='most_frequent')),\n",
    "                         ('one hot encoding', OneHotEncoder( drop = 'first'))])"
   ]
  },
  {
   "cell_type": "markdown",
   "metadata": {},
   "source": [
    "## Question 4: Combine the numerical and categorical pipelines into one data processing pipeline.\n",
    "- Use a fit transformers and the training dataset to verify the data has no missing values and the correct number of columns."
   ]
  },
  {
   "cell_type": "code",
   "execution_count": 7,
   "metadata": {},
   "outputs": [],
   "source": [
    "# Combining the numerical and categorical pipelines\n",
    "\n",
    "procesing_pipeline = ColumnTransformer(transformers=[('num_features', num_pipeline, num_features),\n",
    "                                                    ('cat_features', cat_pipeline, cat_features)])"
   ]
  },
  {
   "cell_type": "markdown",
   "metadata": {},
   "source": [
    "## Question 5: Add a linear regression model to the pipeline.\n",
    "- Report what the $R^2$ is using the `test` data.  "
   ]
  },
  {
   "cell_type": "code",
   "execution_count": 8,
   "metadata": {},
   "outputs": [
    {
     "data": {
      "text/plain": [
       "Pipeline(steps=[('data_preprocessing',\n",
       "                 ColumnTransformer(transformers=[('num_features',\n",
       "                                                  Pipeline(steps=[('imputer '\n",
       "                                                                   'missing',\n",
       "                                                                   SimpleImputer(strategy='median')),\n",
       "                                                                  ('standardize',\n",
       "                                                                   StandardScaler())]),\n",
       "                                                  ['condition', 'odometer',\n",
       "                                                   'auction_value']),\n",
       "                                                 ('cat_features',\n",
       "                                                  Pipeline(steps=[('imputer '\n",
       "                                                                   'missing',\n",
       "                                                                   SimpleImputer(strategy='most_frequent')),\n",
       "                                                                  ('one hot '\n",
       "                                                                   'encoding',\n",
       "                                                                   OneHotEncoder(drop='first'))]),\n",
       "                                                  ['make', 'transmission',\n",
       "                                                   'state'])])),\n",
       "                ('Model', LinearRegression())])"
      ]
     },
     "execution_count": 8,
     "metadata": {},
     "output_type": "execute_result"
    }
   ],
   "source": [
    "#Importing the required library and creating a linear regression model\n",
    "\n",
    "from sklearn.linear_model import LinearRegression\n",
    "\n",
    "modeling_pipeline = Pipeline([('data_preprocessing', procesing_pipeline),\n",
    "                             ('Model', LinearRegression())])\n",
    "\n",
    "modeling_pipeline.fit(X_train, y_train)"
   ]
  },
  {
   "cell_type": "code",
   "execution_count": 9,
   "metadata": {},
   "outputs": [],
   "source": [
    "# Predecting the results and storing it\n",
    "result = modeling_pipeline.predict(X_test)"
   ]
  },
  {
   "cell_type": "code",
   "execution_count": 10,
   "metadata": {},
   "outputs": [],
   "source": [
    "from sklearn.metrics import r2_score"
   ]
  },
  {
   "cell_type": "code",
   "execution_count": 11,
   "metadata": {},
   "outputs": [
    {
     "name": "stdout",
     "output_type": "stream",
     "text": [
      "the r2 score is : 0.865655300992363\n"
     ]
    }
   ],
   "source": [
    "# Generating the r2 score\n",
    "r2 = r2_score(result, y_test)\n",
    "print(f'the r2 score is : {r2}')"
   ]
  },
  {
   "cell_type": "markdown",
   "metadata": {},
   "source": [
    "## Question 6: Create a plot(s) of the residuals. Do you have any concerns about patterns in the residuals that the model is neglecting to pick-up?\n",
    "- Include a sentence or two on what you observe."
   ]
  },
  {
   "cell_type": "code",
   "execution_count": 16,
   "metadata": {},
   "outputs": [
    {
     "data": {
      "image/png": "[encoded data removed]",
      "text/plain": [
       "<Figure size 432x288 with 1 Axes>"
      ]
     },
     "metadata": {
      "needs_background": "light"
     },
     "output_type": "display_data"
    }
   ],
   "source": [
    "# Plotting graph between actual and predicted\n",
    "\n",
    "import matplotlib.pyplot as plt\n",
    "\n",
    "plt.plot(y_test, result, 'bo')\n",
    "plt.xlabel('Actual')\n",
    "plt.ylabel('Predicted') \n",
    "plt.show()"
   ]
  },
  {
   "cell_type": "code",
   "execution_count": 17,
   "metadata": {},
   "outputs": [
    {
     "data": {
      "image/png": "[encoded data removed]",
      "text/plain": [
       "<Figure size 432x288 with 1 Axes>"
      ]
     },
     "metadata": {
      "needs_background": "light"
     },
     "output_type": "display_data"
    }
   ],
   "source": [
    "#Plotting graph of residuals and predicted values\n",
    "plt.plot(result, result - y_test, 'bo')\n",
    "plt.ylabel('Residual')\n",
    "plt.xlabel('Predicted')\n",
    "plt.show()"
   ]
  },
  {
   "cell_type": "markdown",
   "metadata": {},
   "source": [
    "## Question 7: Modify the pipeline to use a ridge regression model with an alpha value of 100. How does this change the $R^2$?"
   ]
  },
  {
   "cell_type": "code",
   "execution_count": 18,
   "metadata": {},
   "outputs": [
    {
     "data": {
      "text/plain": [
       "Pipeline(steps=[('data_preprocessing',\n",
       "                 ColumnTransformer(transformers=[('num_features',\n",
       "                                                  Pipeline(steps=[('imputer '\n",
       "                                                                   'missing',\n",
       "                                                                   SimpleImputer(strategy='median')),\n",
       "                                                                  ('standardize',\n",
       "                                                                   StandardScaler())]),\n",
       "                                                  ['condition', 'odometer',\n",
       "                                                   'auction_value']),\n",
       "                                                 ('cat_features',\n",
       "                                                  Pipeline(steps=[('imputer '\n",
       "                                                                   'missing',\n",
       "                                                                   SimpleImputer(strategy='most_frequent')),\n",
       "                                                                  ('one hot '\n",
       "                                                                   'encoding',\n",
       "                                                                   OneHotEncoder(drop='first'))]),\n",
       "                                                  ['make', 'transmission',\n",
       "                                                   'state'])])),\n",
       "                ('Model', Ridge(alpha=100))])"
      ]
     },
     "execution_count": 18,
     "metadata": {},
     "output_type": "execute_result"
    }
   ],
   "source": [
    "#Importing the required library and creating a ridge regression model with alpha as 100\n",
    "from sklearn.linear_model import Ridge\n",
    "\n",
    "modeling_pipeline = Pipeline([('data_preprocessing', procesing_pipeline),\n",
    "                             ('Model', Ridge(alpha=100))])\n",
    "\n",
    "modeling_pipeline.fit(X_train, y_train)"
   ]
  },
  {
   "cell_type": "code",
   "execution_count": 19,
   "metadata": {},
   "outputs": [
    {
     "name": "stdout",
     "output_type": "stream",
     "text": [
      "the r2 score is : 0.8606663430219008\n"
     ]
    }
   ],
   "source": [
    "# Generating R2 value\n",
    "result = modeling_pipeline.predict(X_test)\n",
    "\n",
    "r2 = r2_score(result, y_test)\n",
    "print(f'the r2 score is : {r2}')"
   ]
  },
  {
   "cell_type": "markdown",
   "metadata": {},
   "source": [
    "**The r2 score is slightly decreased**"
   ]
  }
 ],
 "metadata": {
  "kernelspec": {
   "display_name": "Python 3 (ipykernel)",
   "language": "python",
   "name": "python3"
  },
  "language_info": {
   "codemirror_mode": {
    "name": "ipython",
    "version": 3
   },
   "file_extension": ".py",
   "mimetype": "text/x-python",
   "name": "python",
   "nbconvert_exporter": "python",
   "pygments_lexer": "ipython3",
   "version": "3.9.12"
  },
  "toc": {
   "base_numbering": 1,
   "nav_menu": {},
   "number_sections": true,
   "sideBar": true,
   "skip_h1_title": false,
   "title_cell": "Table of Contents",
   "title_sidebar": "Contents",
   "toc_cell": false,
   "toc_position": {},
   "toc_section_display": true,
   "toc_window_display": false
  }
 },
 "nbformat": 4,
 "nbformat_minor": 4
}
