{
 "cells": [
  {
   "cell_type": "markdown",
   "id": "318de7cb",
   "metadata": {
    "id": "318de7cb"
   },
   "source": [
    "# Week4 - Lab\n",
    "\n",
    "Take a look at this toy dataset. Perform the following operations\n",
    "* Train-test split\n",
    "* Train a linear regression model\n",
    "* Evaluate/create residual plots\n",
    "* Explain findings"
   ]
  },
  {
   "cell_type": "markdown",
   "id": "2z_fGdklP4Ex",
   "metadata": {
    "id": "2z_fGdklP4Ex"
   },
   "source": [
    "#### Let's take a look at the data"
   ]
  },
  {
   "cell_type": "code",
   "execution_count": 1,
   "id": "f7cda82e",
   "metadata": {
    "id": "f7cda82e"
   },
   "outputs": [],
   "source": [
    "import pandas as pd\n",
    "import numpy as np\n",
    "import matplotlib.pyplot as plt\n",
    "from sklearn.linear_model import LinearRegression\n",
    "from sklearn.model_selection import train_test_split\n",
    "\n",
    "data1 = pd.read_csv('https://raw.githubusercontent.com/msaricaumbc/DS_data/master/ds602/regression/lab4_1.csv')\n",
    "data2 = pd.read_csv('https://raw.githubusercontent.com/msaricaumbc/DS_data/master/ds602/regression/lab4_2.csv')\n"
   ]
  },
  {
   "cell_type": "code",
   "execution_count": 2,
   "id": "iVJ4P8ThPeJS",
   "metadata": {
    "colab": {
     "base_uri": "https://localhost:8080/"
    },
    "id": "iVJ4P8ThPeJS",
    "outputId": "2078ce95-703d-44bd-f9b8-9d6c3bede30f"
   },
   "outputs": [
    {
     "name": "stdout",
     "output_type": "stream",
     "text": [
      "   Unnamed: 0   X    y\n",
      "0           0  50  147\n",
      "1           1  82  246\n",
      "2           2  66  207\n",
      "3           3  35  105\n",
      "4           4  81  240\n",
      "   Unnamed: 0  X1 X2     y\n",
      "0           0  50  B  2510\n",
      "1           1  82  B  6738\n",
      "2           2  66  B  4355\n",
      "3           3  35  A  2225\n",
      "4           4  81  A  7560\n"
     ]
    }
   ],
   "source": [
    "print(data1.head())\n",
    "print(data2.head())\n"
   ]
  },
  {
   "cell_type": "markdown",
   "id": "15nA-5R1QdeI",
   "metadata": {
    "id": "15nA-5R1QdeI"
   },
   "source": [
    "#### Performing the above operations for 'data1'\n",
    "\n",
    "* Train-test split\n",
    "* Train a linear regression model\n",
    "* Evaluate/create residual plots\n",
    "* Explain findings\n",
    "\n"
   ]
  },
  {
   "cell_type": "code",
   "execution_count": 3,
   "id": "WZlSKH82PgBj",
   "metadata": {
    "id": "WZlSKH82PgBj"
   },
   "outputs": [],
   "source": [
    "X1 = data1[['X']]\n",
    "y1 = data1['y']\n",
    "X_train1, X_test1, y_train1, y_test1 = train_test_split(X1, y1, test_size=0.2, random_state=42)\n"
   ]
  },
  {
   "cell_type": "code",
   "execution_count": 4,
   "id": "4qeLJyKqPjtg",
   "metadata": {
    "colab": {
     "base_uri": "https://localhost:8080/"
    },
    "id": "4qeLJyKqPjtg",
    "outputId": "14c671fd-90b9-4479-b701-1e53d5cfab23"
   },
   "outputs": [
    {
     "data": {
      "text/plain": [
       "LinearRegression()"
      ]
     },
     "execution_count": 4,
     "metadata": {},
     "output_type": "execute_result"
    }
   ],
   "source": [
    "lr = LinearRegression()\n",
    "lr.fit(X_train1, y_train1)\n"
   ]
  },
  {
   "cell_type": "code",
   "execution_count": 5,
   "id": "1aevbYR_PsgY",
   "metadata": {
    "colab": {
     "base_uri": "https://localhost:8080/"
    },
    "id": "1aevbYR_PsgY",
    "outputId": "9eea37e4-93e0-4293-ab27-7d6fa642cc4e"
   },
   "outputs": [
    {
     "name": "stdout",
     "output_type": "stream",
     "text": [
      "R-squared: 0.9872393010968207\n",
      "MSE: 82.09758338271465\n"
     ]
    }
   ],
   "source": [
    "from sklearn.metrics import r2_score, mean_squared_error\n",
    "\n",
    "y_pred1 = lr.predict(X_test1)\n",
    "\n",
    "print(\"R-squared:\", r2_score(y_test1, y_pred1))\n",
    "print(\"MSE:\", mean_squared_error(y_test1, y_pred1))\n"
   ]
  },
  {
   "cell_type": "markdown",
   "id": "b6XahEIpRfx_",
   "metadata": {
    "id": "b6XahEIpRfx_"
   },
   "source": [
    "**Explaination**"
   ]
  },
  {
   "cell_type": "code",
   "execution_count": 6,
   "id": "8k3Zru_7PvjZ",
   "metadata": {
    "colab": {
     "base_uri": "https://localhost:8080/",
     "height": 295
    },
    "id": "8k3Zru_7PvjZ",
    "outputId": "d5a1f8e2-35aa-4350-9f31-370f0d878e36"
   },
   "outputs": [
    {
     "data": {
      "image/png": "[encoded data removed]",
      "text/plain": [
       "<Figure size 432x288 with 1 Axes>"
      ]
     },
     "metadata": {
      "needs_background": "light"
     },
     "output_type": "display_data"
    }
   ],
   "source": [
    "residuals1 = y_test1 - y_pred1\n",
    "plt.scatter(X_test1, residuals1)\n",
    "plt.axhline(y=0, color='r', linestyle='-')\n",
    "plt.xlabel(\"X\")\n",
    "plt.ylabel(\"Residuals\")\n",
    "plt.title(\"Residual Plot\")\n",
    "plt.show()\n"
   ]
  },
  {
   "cell_type": "markdown",
   "id": "lbClwTkQQx4q",
   "metadata": {
    "id": "lbClwTkQQx4q"
   },
   "source": [
    "#### Performing the above operations for 'data2'\n",
    "\n",
    "* Train-test split\n",
    "* Train a linear regression model\n",
    "* Evaluate/create residual plots\n",
    "* Explain findings\n",
    "\n"
   ]
  },
  {
   "cell_type": "code",
   "execution_count": 7,
   "id": "cW6h-p_6PxXZ",
   "metadata": {
    "id": "cW6h-p_6PxXZ"
   },
   "outputs": [],
   "source": [
    "X2 = data2[['X1']]\n",
    "y2 = data2['y']\n",
    "X_train2, X_test2, y_train2, y_test2 = train_test_split(X2, y2, test_size=0.2, random_state=42)\n"
   ]
  },
  {
   "cell_type": "code",
   "execution_count": 8,
   "id": "mKPDtdLdQ72P",
   "metadata": {
    "colab": {
     "base_uri": "https://localhost:8080/"
    },
    "id": "mKPDtdLdQ72P",
    "outputId": "a2300fff-11fa-465b-efab-74fc1b935a0d"
   },
   "outputs": [
    {
     "data": {
      "text/plain": [
       "LinearRegression()"
      ]
     },
     "execution_count": 8,
     "metadata": {},
     "output_type": "execute_result"
    }
   ],
   "source": [
    "lr = LinearRegression()\n",
    "lr.fit(X_train2, y_train2)\n"
   ]
  },
  {
   "cell_type": "code",
   "execution_count": 9,
   "id": "DVDPq0KtRKFv",
   "metadata": {
    "colab": {
     "base_uri": "https://localhost:8080/"
    },
    "id": "DVDPq0KtRKFv",
    "outputId": "4b4b2ca8-b6d7-43e3-d1c9-901f6ae1de72"
   },
   "outputs": [
    {
     "name": "stdout",
     "output_type": "stream",
     "text": [
      "R-squared: 0.8456392405812886\n",
      "MSE: 1061756.2404084331\n"
     ]
    }
   ],
   "source": [
    "from sklearn.metrics import r2_score, mean_squared_error\n",
    "\n",
    "y_pred2 = lr.predict(X_test2)\n",
    "\n",
    "print(\"R-squared:\", r2_score(y_test2, y_pred2))\n",
    "print(\"MSE:\", mean_squared_error(y_test2, y_pred2))\n"
   ]
  },
  {
   "cell_type": "markdown",
   "id": "UthFymuKRdRP",
   "metadata": {
    "id": "UthFymuKRdRP"
   },
   "source": [
    "**Explaination**"
   ]
  },
  {
   "cell_type": "code",
   "execution_count": 10,
   "id": "jqlN3BevRQqO",
   "metadata": {
    "colab": {
     "base_uri": "https://localhost:8080/",
     "height": 295
    },
    "id": "jqlN3BevRQqO",
    "outputId": "31cacdcb-fe1e-442e-fbac-3997ed1dd00c"
   },
   "outputs": [
    {
     "data": {
      "image/png": "[encoded data removed]",
      "text/plain": [
       "<Figure size 432x288 with 1 Axes>"
      ]
     },
     "metadata": {
      "needs_background": "light"
     },
     "output_type": "display_data"
    }
   ],
   "source": [
    "residuals2 = y_test2 - y_pred2\n",
    "plt.scatter(X_test2, residuals2)\n",
    "plt.axhline(y=0, color='r', linestyle='-')\n",
    "plt.xlabel(\"X\")\n",
    "plt.ylabel(\"Residuals\")\n",
    "plt.title(\"Residual Plot\")\n",
    "plt.show()\n"
   ]
  },
  {
   "cell_type": "code",
   "execution_count": null,
   "id": "gPMbmqySRXR3",
   "metadata": {
    "id": "gPMbmqySRXR3"
   },
   "outputs": [],
   "source": []
  }
 ],
 "metadata": {
  "colab": {
   "provenance": []
  },
  "kernelspec": {
   "display_name": "Python 3 (ipykernel)",
   "language": "python",
   "name": "python3"
  },
  "language_info": {
   "codemirror_mode": {
    "name": "ipython",
    "version": 3
   },
   "file_extension": ".py",
   "mimetype": "text/x-python",
   "name": "python",
   "nbconvert_exporter": "python",
   "pygments_lexer": "ipython3",
   "version": "3.9.12"
  },
  "toc": {
   "base_numbering": 1,
   "nav_menu": {},
   "number_sections": false,
   "sideBar": true,
   "skip_h1_title": false,
   "title_cell": "Table of Contents",
   "title_sidebar": "Contents",
   "toc_cell": false,
   "toc_position": {},
   "toc_section_display": true,
   "toc_window_display": false
  }
 },
 "nbformat": 4,
 "nbformat_minor": 5
}
