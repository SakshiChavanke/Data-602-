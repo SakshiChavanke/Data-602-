{
 "cells": [
  {
   "cell_type": "markdown",
   "id": "57771d6f",
   "metadata": {},
   "source": [
    "# Week 3 Lab"
   ]
  },
  {
   "cell_type": "markdown",
   "id": "ccb647fd",
   "metadata": {},
   "source": [
    "## Questions:\n",
    "- Differences between supervised and unsupervised learning?  \n",
    "- Differences between classification and regression?  \n",
    "- Classification and regression are the only types of supervised learning? "
   ]
  },
  {
   "cell_type": "markdown",
   "id": "03e12e71",
   "metadata": {},
   "source": []
  },
  {
   "cell_type": "markdown",
   "id": "5b095853",
   "metadata": {},
   "source": [
    "1.\n",
    "Unsupervised learning does not require labeled data, but supervised learning does.\n",
    "Unsupervised learning learns to detect patterns in data, whereas supervised learning learns to translate inputs to outputs.The method in unsupervised learning attempts to detect patterns and correlations in data without any prior knowledge of the result.\n",
    "The algorithm in supervised learning is trained using labeled data, which implies that the input data has already been tagged with the proper output. Unsupervised learning, in contrast hand, requires the algorithm to operate with unlabeled data and discover patterns and correlations on its own.\n",
    "Based on the labeled data, the algorithm is taught to translate input data to the proper output in supervised learning.Because it has access to more information, supervised learning can achieve more accuracy than unsupervised learning.\n"
   ]
  },
  {
   "attachments": {},
   "cell_type": "markdown",
   "id": "663683c9",
   "metadata": {},
   "source": [
    "2.\n",
    "The most crucial difference between classification and regression is that classification algorithms investigate discrete values, whereas regression algorithms analyze continuous real values.\n",
    "The nature of the expected data in categorization is unstructured. While Regression has sorted anticipated data.\n",
    "The accuracy of classification is determined. The root mean square error approach is used in regression.\n",
    "When given a set of data, this approach assists in categorizing the data. whereas in the event of regression It use the mapping function to convert values to continuous output.\n"
   ]
  },
  {
   "attachments": {},
   "cell_type": "markdown",
   "id": "c26428b4",
   "metadata": {},
   "source": [
    "3.\n",
    "No, classification and regression are not the only supervised learning methods.\n",
    "Other types of supervised learning, in addition to classification and regression, include: \n",
    "Ranking entails rating a collection of objects based on their relevance to a query or user.\n",
    "Multi-label classification is a classification variation in which a data item can belong to more than one class.\n",
    "Structured prediction is the prediction of structured outputs like sequences, trees, or graphs.\n",
    "Time series forecasting: This is the process of predicting future values of a time series based on previous data.\n"
   ]
  }
 ],
 "metadata": {
  "kernelspec": {
   "display_name": "Python 3 (ipykernel)",
   "language": "python",
   "name": "python3"
  },
  "language_info": {
   "codemirror_mode": {
    "name": "ipython",
    "version": 3
   },
   "file_extension": ".py",
   "mimetype": "text/x-python",
   "name": "python",
   "nbconvert_exporter": "python",
   "pygments_lexer": "ipython3",
   "version": "3.9.12"
  },
  "toc": {
   "base_numbering": 1,
   "nav_menu": {},
   "number_sections": true,
   "sideBar": true,
   "skip_h1_title": false,
   "title_cell": "Table of Contents",
   "title_sidebar": "Contents",
   "toc_cell": false,
   "toc_position": {},
   "toc_section_display": true,
   "toc_window_display": false
  }
 },
 "nbformat": 4,
 "nbformat_minor": 5
}
