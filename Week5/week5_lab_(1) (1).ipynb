{
 "cells": [
  {
   "cell_type": "markdown",
   "id": "318de7cb",
   "metadata": {
    "id": "318de7cb"
   },
   "source": [
    "# Week5 - Lab\n",
    "\n",
    "* Assign X, y\n",
    "* Train-test split\n",
    "* Visualize & speculate on training dataset\n",
    "* Train a logistic regression model\n",
    "* Evaluate the model, roc score\n",
    "* Explain findings"
   ]
  },
  {
   "cell_type": "code",
   "execution_count": 43,
   "id": "4089dbd4",
   "metadata": {
    "id": "4089dbd4"
   },
   "outputs": [],
   "source": [
    "import numpy as np\n",
    "import pandas as pd\n",
    "from sklearn.model_selection import train_test_split\n",
    "from sklearn.feature_extraction.text import CountVectorizer\n",
    "from sklearn.metrics import roc_auc_score, accuracy_score, f1_score, precision_score, recall_score\n",
    "from sklearn.decomposition import PCA\n",
    "import seaborn as sns\n",
    "from sklearn.linear_model import LogisticRegression\n",
    "\n",
    "# https://www.kaggle.com/datasets/muhammadtalharasool/simple-gender-classification?select=gender.csv\n",
    "df = pd.read_csv('https://raw.githubusercontent.com/msaricaumbc/DS_data/master/ds602/log_reg/gender.csv').iloc[:,:-1]\n",
    "df.columns = df.columns.str.strip()\n",
    "df.Gender = df.Gender.str.strip()\n",
    "df.Occupation = df.Occupation.str.strip()\n",
    "df['Education Level'] = df['Education Level'].str.strip()\n",
    "df['Marital Status'] = df['Marital Status'].str.strip()\n",
    "df['Favorite Color'] = df['Favorite Color'].str.strip()"
   ]
  },
  {
   "cell_type": "code",
   "execution_count": 44,
   "id": "_eqQu5u5zmGv",
   "metadata": {
    "colab": {
     "base_uri": "https://localhost:8080/",
     "height": 206
    },
    "id": "_eqQu5u5zmGv",
    "outputId": "3e44802a-9633-491e-9526-4a6257431aee"
   },
   "outputs": [
    {
     "data": {
      "text/html": [
       "<div>\n",
       "<style scoped>\n",
       "    .dataframe tbody tr th:only-of-type {\n",
       "        vertical-align: middle;\n",
       "    }\n",
       "\n",
       "    .dataframe tbody tr th {\n",
       "        vertical-align: top;\n",
       "    }\n",
       "\n",
       "    .dataframe thead th {\n",
       "        text-align: right;\n",
       "    }\n",
       "</style>\n",
       "<table border=\"1\" class=\"dataframe\">\n",
       "  <thead>\n",
       "    <tr style=\"text-align: right;\">\n",
       "      <th></th>\n",
       "      <th>Gender</th>\n",
       "      <th>Age</th>\n",
       "      <th>Height (cm)</th>\n",
       "      <th>Weight (kg)</th>\n",
       "      <th>Occupation</th>\n",
       "      <th>Education Level</th>\n",
       "      <th>Marital Status</th>\n",
       "      <th>Income (USD)</th>\n",
       "      <th>Favorite Color</th>\n",
       "    </tr>\n",
       "  </thead>\n",
       "  <tbody>\n",
       "    <tr>\n",
       "      <th>0</th>\n",
       "      <td>male</td>\n",
       "      <td>32</td>\n",
       "      <td>175</td>\n",
       "      <td>70</td>\n",
       "      <td>Software Engineer</td>\n",
       "      <td>Master's Degree</td>\n",
       "      <td>Married</td>\n",
       "      <td>75000</td>\n",
       "      <td>Blue</td>\n",
       "    </tr>\n",
       "    <tr>\n",
       "      <th>1</th>\n",
       "      <td>male</td>\n",
       "      <td>25</td>\n",
       "      <td>182</td>\n",
       "      <td>85</td>\n",
       "      <td>Sales Representative</td>\n",
       "      <td>Bachelor's Degree</td>\n",
       "      <td>Single</td>\n",
       "      <td>45000</td>\n",
       "      <td>Green</td>\n",
       "    </tr>\n",
       "    <tr>\n",
       "      <th>2</th>\n",
       "      <td>female</td>\n",
       "      <td>41</td>\n",
       "      <td>160</td>\n",
       "      <td>62</td>\n",
       "      <td>Doctor</td>\n",
       "      <td>Doctorate Degree</td>\n",
       "      <td>Married</td>\n",
       "      <td>120000</td>\n",
       "      <td>Purple</td>\n",
       "    </tr>\n",
       "    <tr>\n",
       "      <th>3</th>\n",
       "      <td>male</td>\n",
       "      <td>38</td>\n",
       "      <td>178</td>\n",
       "      <td>79</td>\n",
       "      <td>Lawyer</td>\n",
       "      <td>Bachelor's Degree</td>\n",
       "      <td>Single</td>\n",
       "      <td>90000</td>\n",
       "      <td>Red</td>\n",
       "    </tr>\n",
       "    <tr>\n",
       "      <th>4</th>\n",
       "      <td>female</td>\n",
       "      <td>29</td>\n",
       "      <td>165</td>\n",
       "      <td>58</td>\n",
       "      <td>Graphic Designer</td>\n",
       "      <td>Associate's Degree</td>\n",
       "      <td>Single</td>\n",
       "      <td>35000</td>\n",
       "      <td>Yellow</td>\n",
       "    </tr>\n",
       "  </tbody>\n",
       "</table>\n",
       "</div>"
      ],
      "text/plain": [
       "   Gender  Age  Height (cm)  Weight (kg)            Occupation  \\\n",
       "0    male   32          175           70     Software Engineer   \n",
       "1    male   25          182           85  Sales Representative   \n",
       "2  female   41          160           62                Doctor   \n",
       "3    male   38          178           79                Lawyer   \n",
       "4  female   29          165           58      Graphic Designer   \n",
       "\n",
       "      Education Level Marital Status  Income (USD) Favorite Color  \n",
       "0     Master's Degree        Married         75000           Blue  \n",
       "1   Bachelor's Degree         Single         45000          Green  \n",
       "2    Doctorate Degree        Married        120000         Purple  \n",
       "3   Bachelor's Degree         Single         90000            Red  \n",
       "4  Associate's Degree         Single         35000         Yellow  "
      ]
     },
     "execution_count": 44,
     "metadata": {},
     "output_type": "execute_result"
    }
   ],
   "source": [
    "df.head()"
   ]
  },
  {
   "cell_type": "code",
   "execution_count": 45,
   "id": "ErrGiwyn1L8E",
   "metadata": {
    "colab": {
     "base_uri": "https://localhost:8080/"
    },
    "id": "ErrGiwyn1L8E",
    "outputId": "a3e09063-d637-4efa-bf81-b2ae78cce2b6"
   },
   "outputs": [
    {
     "data": {
      "text/plain": [
       "Index(['Gender', 'Age', 'Height (cm)', 'Weight (kg)', 'Occupation',\n",
       "       'Education Level', 'Marital Status', 'Income (USD)', 'Favorite Color'],\n",
       "      dtype='object')"
      ]
     },
     "execution_count": 45,
     "metadata": {},
     "output_type": "execute_result"
    }
   ],
   "source": [
    "df.columns"
   ]
  },
  {
   "cell_type": "code",
   "execution_count": 46,
   "id": "VKKbgVWR4I43",
   "metadata": {
    "colab": {
     "base_uri": "https://localhost:8080/"
    },
    "id": "VKKbgVWR4I43",
    "outputId": "ff34f5a5-1591-4877-dd32-6a2725ff2f69"
   },
   "outputs": [
    {
     "name": "stdout",
     "output_type": "stream",
     "text": [
      "<class 'pandas.core.frame.DataFrame'>\n",
      "RangeIndex: 131 entries, 0 to 130\n",
      "Data columns (total 9 columns):\n",
      " #   Column           Non-Null Count  Dtype \n",
      "---  ------           --------------  ----- \n",
      " 0   Gender           131 non-null    object\n",
      " 1   Age              131 non-null    int64 \n",
      " 2   Height (cm)      131 non-null    int64 \n",
      " 3   Weight (kg)      131 non-null    int64 \n",
      " 4   Occupation       131 non-null    object\n",
      " 5   Education Level  131 non-null    object\n",
      " 6   Marital Status   131 non-null    object\n",
      " 7   Income (USD)     131 non-null    int64 \n",
      " 8   Favorite Color   131 non-null    object\n",
      "dtypes: int64(4), object(5)\n",
      "memory usage: 9.3+ KB\n"
     ]
    }
   ],
   "source": [
    "df.info()"
   ]
  },
  {
   "cell_type": "code",
   "execution_count": 47,
   "id": "DVOry6qH5ItL",
   "metadata": {
    "id": "DVOry6qH5ItL"
   },
   "outputs": [],
   "source": [
    "df['Gender'] = df['Gender'].astype('category')\n",
    "df['Favorite Color'] = df['Favorite Color'].astype('category')\n",
    "df['Education Level'] = df['Education Level'].astype('category')\n",
    "df['Marital Status'] = df['Marital Status'].astype('category')"
   ]
  },
  {
   "cell_type": "code",
   "execution_count": 48,
   "id": "bL9j2yH86MMu",
   "metadata": {
    "colab": {
     "base_uri": "https://localhost:8080/"
    },
    "id": "bL9j2yH86MMu",
    "outputId": "6b258172-54af-489f-be8e-7dd325af1870"
   },
   "outputs": [
    {
     "name": "stdout",
     "output_type": "stream",
     "text": [
      "<class 'pandas.core.frame.DataFrame'>\n",
      "RangeIndex: 131 entries, 0 to 130\n",
      "Data columns (total 9 columns):\n",
      " #   Column           Non-Null Count  Dtype   \n",
      "---  ------           --------------  -----   \n",
      " 0   Gender           131 non-null    category\n",
      " 1   Age              131 non-null    int64   \n",
      " 2   Height (cm)      131 non-null    int64   \n",
      " 3   Weight (kg)      131 non-null    int64   \n",
      " 4   Occupation       131 non-null    object  \n",
      " 5   Education Level  131 non-null    category\n",
      " 6   Marital Status   131 non-null    category\n",
      " 7   Income (USD)     131 non-null    int64   \n",
      " 8   Favorite Color   131 non-null    category\n",
      "dtypes: category(4), int64(4), object(1)\n",
      "memory usage: 6.6+ KB\n"
     ]
    }
   ],
   "source": [
    "df.info()"
   ]
  },
  {
   "cell_type": "code",
   "execution_count": 49,
   "id": "AuYGFgxk8pJf",
   "metadata": {
    "id": "AuYGFgxk8pJf"
   },
   "outputs": [],
   "source": [
    "from sklearn.preprocessing import LabelEncoder"
   ]
  },
  {
   "cell_type": "code",
   "execution_count": 50,
   "id": "x4Gvvu5q8rF4",
   "metadata": {
    "id": "x4Gvvu5q8rF4"
   },
   "outputs": [],
   "source": [
    "# create a label encoder object\n",
    "le = LabelEncoder()\n",
    "# df['Occupation'] = le.fit_transform(df['Occupation'])\n",
    "# df['Education Level'] = le.fit_transform(df['Education Level'])\n",
    "# df['Favorite Color'] = le.fit_transform(df['Favorite Color'])\n",
    "# df['Marital Status'] = le.fit_transform(df['Marital Status'])"
   ]
  },
  {
   "cell_type": "code",
   "execution_count": 51,
   "id": "cfoqyn7J8q7T",
   "metadata": {
    "colab": {
     "base_uri": "https://localhost:8080/",
     "height": 423
    },
    "id": "cfoqyn7J8q7T",
    "outputId": "eb451cca-2b00-43ce-ccfb-9ee17c341ed9"
   },
   "outputs": [
    {
     "data": {
      "text/html": [
       "<div>\n",
       "<style scoped>\n",
       "    .dataframe tbody tr th:only-of-type {\n",
       "        vertical-align: middle;\n",
       "    }\n",
       "\n",
       "    .dataframe tbody tr th {\n",
       "        vertical-align: top;\n",
       "    }\n",
       "\n",
       "    .dataframe thead th {\n",
       "        text-align: right;\n",
       "    }\n",
       "</style>\n",
       "<table border=\"1\" class=\"dataframe\">\n",
       "  <thead>\n",
       "    <tr style=\"text-align: right;\">\n",
       "      <th></th>\n",
       "      <th>Gender</th>\n",
       "      <th>Age</th>\n",
       "      <th>Height (cm)</th>\n",
       "      <th>Weight (kg)</th>\n",
       "      <th>Occupation</th>\n",
       "      <th>Education Level</th>\n",
       "      <th>Marital Status</th>\n",
       "      <th>Income (USD)</th>\n",
       "      <th>Favorite Color</th>\n",
       "    </tr>\n",
       "  </thead>\n",
       "  <tbody>\n",
       "    <tr>\n",
       "      <th>0</th>\n",
       "      <td>male</td>\n",
       "      <td>32</td>\n",
       "      <td>175</td>\n",
       "      <td>70</td>\n",
       "      <td>Software Engineer</td>\n",
       "      <td>Master's Degree</td>\n",
       "      <td>Married</td>\n",
       "      <td>75000</td>\n",
       "      <td>Blue</td>\n",
       "    </tr>\n",
       "    <tr>\n",
       "      <th>1</th>\n",
       "      <td>male</td>\n",
       "      <td>25</td>\n",
       "      <td>182</td>\n",
       "      <td>85</td>\n",
       "      <td>Sales Representative</td>\n",
       "      <td>Bachelor's Degree</td>\n",
       "      <td>Single</td>\n",
       "      <td>45000</td>\n",
       "      <td>Green</td>\n",
       "    </tr>\n",
       "    <tr>\n",
       "      <th>2</th>\n",
       "      <td>female</td>\n",
       "      <td>41</td>\n",
       "      <td>160</td>\n",
       "      <td>62</td>\n",
       "      <td>Doctor</td>\n",
       "      <td>Doctorate Degree</td>\n",
       "      <td>Married</td>\n",
       "      <td>120000</td>\n",
       "      <td>Purple</td>\n",
       "    </tr>\n",
       "    <tr>\n",
       "      <th>3</th>\n",
       "      <td>male</td>\n",
       "      <td>38</td>\n",
       "      <td>178</td>\n",
       "      <td>79</td>\n",
       "      <td>Lawyer</td>\n",
       "      <td>Bachelor's Degree</td>\n",
       "      <td>Single</td>\n",
       "      <td>90000</td>\n",
       "      <td>Red</td>\n",
       "    </tr>\n",
       "    <tr>\n",
       "      <th>4</th>\n",
       "      <td>female</td>\n",
       "      <td>29</td>\n",
       "      <td>165</td>\n",
       "      <td>58</td>\n",
       "      <td>Graphic Designer</td>\n",
       "      <td>Associate's Degree</td>\n",
       "      <td>Single</td>\n",
       "      <td>35000</td>\n",
       "      <td>Yellow</td>\n",
       "    </tr>\n",
       "    <tr>\n",
       "      <th>...</th>\n",
       "      <td>...</td>\n",
       "      <td>...</td>\n",
       "      <td>...</td>\n",
       "      <td>...</td>\n",
       "      <td>...</td>\n",
       "      <td>...</td>\n",
       "      <td>...</td>\n",
       "      <td>...</td>\n",
       "      <td>...</td>\n",
       "    </tr>\n",
       "    <tr>\n",
       "      <th>126</th>\n",
       "      <td>female</td>\n",
       "      <td>32</td>\n",
       "      <td>170</td>\n",
       "      <td>64</td>\n",
       "      <td>Nurse</td>\n",
       "      <td>Associate's Degree</td>\n",
       "      <td>Single</td>\n",
       "      <td>60000</td>\n",
       "      <td>Orange</td>\n",
       "    </tr>\n",
       "    <tr>\n",
       "      <th>127</th>\n",
       "      <td>male</td>\n",
       "      <td>38</td>\n",
       "      <td>176</td>\n",
       "      <td>79</td>\n",
       "      <td>Project Manager</td>\n",
       "      <td>Bachelor's Degree</td>\n",
       "      <td>Married</td>\n",
       "      <td>90000</td>\n",
       "      <td>Black</td>\n",
       "    </tr>\n",
       "    <tr>\n",
       "      <th>128</th>\n",
       "      <td>female</td>\n",
       "      <td>27</td>\n",
       "      <td>162</td>\n",
       "      <td>55</td>\n",
       "      <td>Graphic Designer</td>\n",
       "      <td>Associate's Degree</td>\n",
       "      <td>Single</td>\n",
       "      <td>55000</td>\n",
       "      <td>Green</td>\n",
       "    </tr>\n",
       "    <tr>\n",
       "      <th>129</th>\n",
       "      <td>male</td>\n",
       "      <td>33</td>\n",
       "      <td>175</td>\n",
       "      <td>77</td>\n",
       "      <td>Sales Representative</td>\n",
       "      <td>Bachelor's Degree</td>\n",
       "      <td>Married</td>\n",
       "      <td>80000</td>\n",
       "      <td>Yellow</td>\n",
       "    </tr>\n",
       "    <tr>\n",
       "      <th>130</th>\n",
       "      <td>female</td>\n",
       "      <td>29</td>\n",
       "      <td>164</td>\n",
       "      <td>57</td>\n",
       "      <td>Software Developer</td>\n",
       "      <td>Bachelor's Degree</td>\n",
       "      <td>Single</td>\n",
       "      <td>65000</td>\n",
       "      <td>Blue</td>\n",
       "    </tr>\n",
       "  </tbody>\n",
       "</table>\n",
       "<p>131 rows × 9 columns</p>\n",
       "</div>"
      ],
      "text/plain": [
       "     Gender  Age  Height (cm)  Weight (kg)            Occupation  \\\n",
       "0      male   32          175           70     Software Engineer   \n",
       "1      male   25          182           85  Sales Representative   \n",
       "2    female   41          160           62                Doctor   \n",
       "3      male   38          178           79                Lawyer   \n",
       "4    female   29          165           58      Graphic Designer   \n",
       "..      ...  ...          ...          ...                   ...   \n",
       "126  female   32          170           64                 Nurse   \n",
       "127    male   38          176           79       Project Manager   \n",
       "128  female   27          162           55      Graphic Designer   \n",
       "129    male   33          175           77  Sales Representative   \n",
       "130  female   29          164           57    Software Developer   \n",
       "\n",
       "        Education Level Marital Status  Income (USD) Favorite Color  \n",
       "0       Master's Degree        Married         75000           Blue  \n",
       "1     Bachelor's Degree         Single         45000          Green  \n",
       "2      Doctorate Degree        Married        120000         Purple  \n",
       "3     Bachelor's Degree         Single         90000            Red  \n",
       "4    Associate's Degree         Single         35000         Yellow  \n",
       "..                  ...            ...           ...            ...  \n",
       "126  Associate's Degree         Single         60000         Orange  \n",
       "127   Bachelor's Degree        Married         90000          Black  \n",
       "128  Associate's Degree         Single         55000          Green  \n",
       "129   Bachelor's Degree        Married         80000         Yellow  \n",
       "130   Bachelor's Degree         Single         65000           Blue  \n",
       "\n",
       "[131 rows x 9 columns]"
      ]
     },
     "execution_count": 51,
     "metadata": {},
     "output_type": "execute_result"
    }
   ],
   "source": [
    "df"
   ]
  },
  {
   "cell_type": "markdown",
   "id": "4f6a638d",
   "metadata": {
    "id": "4f6a638d"
   },
   "source": [
    "# Assign X, y"
   ]
  },
  {
   "cell_type": "code",
   "execution_count": 52,
   "id": "573e54c5",
   "metadata": {},
   "outputs": [],
   "source": [
    "df['Gender'].replace({'male' : 0, 'female' : 1}, inplace = True)"
   ]
  },
  {
   "cell_type": "code",
   "execution_count": null,
   "id": "c4221ede",
   "metadata": {},
   "outputs": [],
   "source": []
  },
  {
   "cell_type": "code",
   "execution_count": 53,
   "id": "8364a8b9",
   "metadata": {
    "id": "8364a8b9"
   },
   "outputs": [],
   "source": [
    "X = df.drop(columns=['Gender','Occupation', 'Education Level', 'Marital Status', 'Favorite Color'], axis = 1)\n",
    "y = df['Gender']"
   ]
  },
  {
   "cell_type": "markdown",
   "id": "79428efd",
   "metadata": {
    "id": "79428efd"
   },
   "source": [
    "# Train-test split"
   ]
  },
  {
   "cell_type": "code",
   "execution_count": 54,
   "id": "221da3a5",
   "metadata": {
    "id": "221da3a5"
   },
   "outputs": [],
   "source": [
    "X_train, X_test, y_train, y_test = train_test_split(X, y, test_size=0.3)"
   ]
  },
  {
   "cell_type": "markdown",
   "id": "a26ee202",
   "metadata": {
    "id": "a26ee202"
   },
   "source": [
    "# Visualize & speculate on training dataset"
   ]
  },
  {
   "cell_type": "code",
   "execution_count": 55,
   "id": "79481ab1",
   "metadata": {
    "colab": {
     "base_uri": "https://localhost:8080/",
     "height": 743
    },
    "id": "79481ab1",
    "outputId": "4f549348-a974-40d1-cd96-df8871bf3f2b"
   },
   "outputs": [
    {
     "data": {
      "text/plain": [
       "<seaborn.axisgrid.PairGrid at 0x7fafd0b72fd0>"
      ]
     },
     "execution_count": 55,
     "metadata": {},
     "output_type": "execute_result"
    },
    {
     "data": {
      "image/png": "[encoded data removed]",
      "text/plain": [
       "<Figure size 720x720 with 20 Axes>"
      ]
     },
     "metadata": {
      "needs_background": "light"
     },
     "output_type": "display_data"
    }
   ],
   "source": [
    "sns.pairplot(X_train)\n"
   ]
  },
  {
   "cell_type": "markdown",
   "id": "f0deedfd",
   "metadata": {
    "id": "f0deedfd"
   },
   "source": [
    "# Train a logistic regression model"
   ]
  },
  {
   "cell_type": "code",
   "execution_count": 56,
   "id": "28f30331",
   "metadata": {},
   "outputs": [
    {
     "data": {
      "text/plain": [
       "121    0\n",
       "98     0\n",
       "109    0\n",
       "127    0\n",
       "111    0\n",
       "      ..\n",
       "31     1\n",
       "94     0\n",
       "128    1\n",
       "123    0\n",
       "60     1\n",
       "Name: Gender, Length: 91, dtype: category\n",
       "Categories (2, int64): [1, 0]"
      ]
     },
     "execution_count": 56,
     "metadata": {},
     "output_type": "execute_result"
    }
   ],
   "source": [
    "y_train"
   ]
  },
  {
   "cell_type": "code",
   "execution_count": 57,
   "id": "4b7620db",
   "metadata": {
    "colab": {
     "base_uri": "https://localhost:8080/",
     "height": 74
    },
    "id": "4b7620db",
    "outputId": "1929d8ec-e69a-427d-fc5e-d10a2bf98075"
   },
   "outputs": [
    {
     "data": {
      "text/plain": [
       "LogisticRegression(max_iter=10000)"
      ]
     },
     "execution_count": 57,
     "metadata": {},
     "output_type": "execute_result"
    }
   ],
   "source": [
    "lr_model = LogisticRegression(max_iter = 10000)\n",
    "lr_model.fit(X_train, y_train)"
   ]
  },
  {
   "cell_type": "markdown",
   "id": "0951b9af",
   "metadata": {
    "id": "0951b9af"
   },
   "source": [
    "# Evaluate the model, roc score"
   ]
  },
  {
   "cell_type": "code",
   "execution_count": 61,
   "id": "ed7d496e",
   "metadata": {
    "colab": {
     "base_uri": "https://localhost:8080/"
    },
    "id": "ed7d496e",
    "outputId": "27332dc7-0114-4fab-92df-accb54263cd6"
   },
   "outputs": [
    {
     "name": "stdout",
     "output_type": "stream",
     "text": [
      "ROC score: 1.0\n"
     ]
    }
   ],
   "source": [
    "y_pred_proba = lr_model.predict_proba(X_test)[:,1]\n",
    "roc_score = roc_auc_score(y_test, y_pred_proba)\n",
    "print('ROC score:', roc_score)\n"
   ]
  },
  {
   "cell_type": "markdown",
   "id": "1a2926e8",
   "metadata": {
    "id": "1a2926e8"
   },
   "source": [
    "# Explain findings"
   ]
  },
  {
   "cell_type": "markdown",
   "id": "i6FVb2qaABUQ",
   "metadata": {
    "id": "i6FVb2qaABUQ"
   },
   "source": [
    "#### => The roc score tells us how well the model can distinguish between the two classes (male and female) based on the given features. A roc score of 0.5 indicates that the model is performing no better than random guessing, while a score of 1.0 indicates perfect classification. In general, a roc score above 0.8 is considered good."
   ]
  },
  {
   "cell_type": "code",
   "execution_count": 62,
   "id": "f7e6ea35",
   "metadata": {
    "id": "f7e6ea35"
   },
   "outputs": [
    {
     "data": {
      "text/plain": [
       "121    0\n",
       "98     0\n",
       "109    0\n",
       "127    0\n",
       "111    0\n",
       "      ..\n",
       "31     1\n",
       "94     0\n",
       "128    1\n",
       "123    0\n",
       "60     1\n",
       "Name: Gender, Length: 91, dtype: category\n",
       "Categories (2, int64): [1, 0]"
      ]
     },
     "execution_count": 62,
     "metadata": {},
     "output_type": "execute_result"
    }
   ],
   "source": [
    "y_train"
   ]
  },
  {
   "cell_type": "code",
   "execution_count": null,
   "id": "f92939d5",
   "metadata": {
    "id": "f92939d5"
   },
   "outputs": [],
   "source": []
  },
  {
   "cell_type": "code",
   "execution_count": null,
   "id": "44fd844d",
   "metadata": {
    "id": "44fd844d"
   },
   "outputs": [],
   "source": []
  },
  {
   "cell_type": "code",
   "execution_count": null,
   "id": "47e44f1c",
   "metadata": {
    "id": "47e44f1c"
   },
   "outputs": [],
   "source": []
  }
 ],
 "metadata": {
  "colab": {
   "provenance": []
  },
  "kernelspec": {
   "display_name": "Python 3 (ipykernel)",
   "language": "python",
   "name": "python3"
  },
  "language_info": {
   "codemirror_mode": {
    "name": "ipython",
    "version": 3
   },
   "file_extension": ".py",
   "mimetype": "text/x-python",
   "name": "python",
   "nbconvert_exporter": "python",
   "pygments_lexer": "ipython3",
   "version": "3.9.12"
  },
  "toc": {
   "base_numbering": 1,
   "nav_menu": {},
   "number_sections": false,
   "sideBar": true,
   "skip_h1_title": false,
   "title_cell": "Table of Contents",
   "title_sidebar": "Contents",
   "toc_cell": false,
   "toc_position": {},
   "toc_section_display": true,
   "toc_window_display": false
  }
 },
 "nbformat": 4,
 "nbformat_minor": 5
}
